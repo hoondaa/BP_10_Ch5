{
  "nbformat": 4,
  "nbformat_minor": 0,
  "metadata": {
    "colab": {
      "provenance": [],
      "authorship_tag": "ABX9TyNo3UOrbwr3dlDR2ZnfWtVd",
      "include_colab_link": true
    },
    "kernelspec": {
      "name": "python3",
      "display_name": "Python 3"
    },
    "language_info": {
      "name": "python"
    }
  },
  "cells": [
    {
      "cell_type": "markdown",
      "metadata": {
        "id": "view-in-github",
        "colab_type": "text"
      },
      "source": [
        "<a href=\"https://colab.research.google.com/github/hoondaa/BP_10_Ch5/blob/main/BP_10_Ch5.ipynb\" target=\"_parent\"><img src=\"https://colab.research.google.com/assets/colab-badge.svg\" alt=\"Open In Colab\"/></a>"
      ]
    },
    {
      "cell_type": "code",
      "source": [
        "age = 20\n",
        "if age < 20:\n",
        "  print('20살 미만')\n",
        "else:\n",
        "  print('20살 이상')"
      ],
      "metadata": {
        "colab": {
          "base_uri": "https://localhost:8080/"
        },
        "id": "UYqWTwBG4ht6",
        "outputId": "b49ad439-d78a-4857-a003-75ad1743bc26"
      },
      "execution_count": 2,
      "outputs": [
        {
          "output_type": "stream",
          "name": "stdout",
          "text": [
            "20살 이상\n"
          ]
        }
      ]
    },
    {
      "cell_type": "code",
      "execution_count": 3,
      "metadata": {
        "id": "YFPIT7SB4Vkr"
      },
      "outputs": [],
      "source": [
        "age = 20\n",
        "if age >= 30 and age <= 50:\n",
        "  print('30살 이상이고 50살 이하')"
      ]
    },
    {
      "cell_type": "code",
      "source": [
        "temp = int(input(\"현재 온도를 입력하시오: \"))\n",
        "\n",
        "if temp >= 25:\n",
        "  print(\"반바지를 입으세요\")\n",
        "else:\n",
        "  print(\"긴바지를 입으세요\")"
      ],
      "metadata": {
        "colab": {
          "base_uri": "https://localhost:8080/"
        },
        "id": "EM9FPjHA5V_l",
        "outputId": "c52f61d3-4e35-49a8-8828-d13169de7df6"
      },
      "execution_count": 4,
      "outputs": [
        {
          "output_type": "stream",
          "name": "stdout",
          "text": [
            "현재 온도를 입력하시오: 10\n",
            "긴바지를 입으세요\n"
          ]
        }
      ]
    },
    {
      "cell_type": "code",
      "source": [
        "score = int(input(\"성적을 입력하시오: \"))\n",
        "\n",
        "if score >= 90:\n",
        "  print(\"A학점입니다.\")\n",
        "elif score >= 80:\n",
        "  print(\"B학점입니다.\")\n",
        "elif score >= 70:\n",
        "  print(\"C학점입니다.\")\n",
        "elif score >= 60:\n",
        "  print(\"D학점입니다.\")\n",
        "else :\n",
        "  print(\"F학점입니다.\")\n"
      ],
      "metadata": {
        "colab": {
          "base_uri": "https://localhost:8080/"
        },
        "id": "4ABVP_8V63lp",
        "outputId": "537e5d4c-aa01-4a12-e250-a4eeaeb7920f"
      },
      "execution_count": 6,
      "outputs": [
        {
          "output_type": "stream",
          "name": "stdout",
          "text": [
            "성적을 입력하시오: 99\n",
            "A학점입니다.\n"
          ]
        }
      ]
    },
    {
      "cell_type": "code",
      "source": [
        "import random\n",
        "x = random.randint(1, 100)\n",
        "y = random.randint(1, 100)\n",
        "ans = int(input(str(x)+\"-\"+str(y)+\"=\"))\n",
        "if ans == x -y :\n",
        " print(\"맞았습니다.\")\n",
        "else :\n",
        " print(\"틀렸습니다.\")"
      ],
      "metadata": {
        "colab": {
          "base_uri": "https://localhost:8080/"
        },
        "id": "fx77c1zI71YN",
        "outputId": "fdc35c81-1302-4df2-d32a-82cbd3c6b3dc"
      },
      "execution_count": 8,
      "outputs": [
        {
          "output_type": "stream",
          "name": "stdout",
          "text": [
            "98-47=51\n",
            "맞았습니다.\n"
          ]
        }
      ]
    },
    {
      "cell_type": "code",
      "source": [
        "n = int(input(\"정수를 입력하시오: \"))\n",
        "\n",
        "if n%2==0 and n%3==0:\n",
        " print(\"2와 3으로 나누어 떨어집니다.\")\n",
        "else :\n",
        " print(\"2와 3으로 나누어 떨어지지 않습니다.\")"
      ],
      "metadata": {
        "colab": {
          "base_uri": "https://localhost:8080/"
        },
        "id": "dLHOy3YM8SKS",
        "outputId": "bcb29a72-1be7-4520-de71-39b32fed5038"
      },
      "execution_count": 10,
      "outputs": [
        {
          "output_type": "stream",
          "name": "stdout",
          "text": [
            "정수를 입력하시오: 6\n",
            "2와 3으로 나누어 떨어집니다.\n"
          ]
        }
      ]
    },
    {
      "cell_type": "code",
      "source": [
        "import random\n",
        "\n",
        "solution = random.randint(0, 99)\n",
        "\n",
        "user = int(input(\"복권번호를 입력하시요(0에서 99사이): \"))\n",
        "\n",
        "digit1 = solution // 10\n",
        "digit2 = solution % 10\n",
        "\n",
        "u_digit1 = user // 10\n",
        "u_digit2 = user % 10\n",
        "\n",
        "print(\"당첨번호는\", solution, \"입니다.\")\n",
        "\n",
        "if (digit1 == u_digit1 and digit2 == u_digit2):\n",
        " print(\"상금은 100만원입니다.\")\n",
        "elif (digit1 == u_digit1\n",
        " or digit1 == u_digit2\n",
        " or digit2 == u_digit1\n",
        " or digit2 == u_digit2):\n",
        " print(\"상금은 50만원입니다.\")\n",
        "else:\n",
        " print(\"상금은 없습니다.\")"
      ],
      "metadata": {
        "colab": {
          "base_uri": "https://localhost:8080/"
        },
        "id": "d1JeWpvA8ZeN",
        "outputId": "34c1c304-168e-4f96-c48d-ca5acfad36b2"
      },
      "execution_count": 35,
      "outputs": [
        {
          "output_type": "stream",
          "name": "stdout",
          "text": [
            "복권번호를 입력하시요(0에서 99사이): 0\n",
            "당첨번호는 0 입니다.\n",
            "상금은 100만원입니다.\n"
          ]
        }
      ]
    },
    {
      "cell_type": "code",
      "source": [
        "import turtle\n",
        "t = turtle.Turtle()\n",
        "t.shape(\"turtle\")\n",
        "\n",
        "x1 = int(input(\"큰 원의 중심좌표 x1: \"))\n",
        "y1 = int(input(\"큰 원의 중심좌표 y1: \"))\n",
        "r1 = int(input(\"큰 원의 반지름: \"))\n",
        "x2 = int(input(\"작은 원의 중심좌표 x2: \"))\n",
        "y2 = int(input(\"작은 원의 중심좌표 y2: \"))\n",
        "r2 = int(input(\"작은 원의 반지름: \"))\n",
        "\n",
        "t.penup()\n",
        "t.goto(x1, y1)\n",
        "t.pendown()\n",
        "t.circle(r1)\n",
        "\n",
        "t.penup()\n",
        "t.goto(x2, y2)\n",
        "t.pendown()\n",
        "t.circle(r2)\n",
        "\n",
        "dist = ((x1 - x2) * (x1 - x2) + (y1 - y2) * (y1 - y2)) ** 0.5\n",
        "if dist <= r1-r2:\n",
        " turtle.write(\"두번째 원이 첫번째 원의 내부에 있습니다.\")\n",
        "elif dist <= r1+r2:\n",
        " turtle.write(\"두번째 원이 첫번째 원과 겹칩니다.\")\n",
        "else:\n",
        " turtle.write(\"두번째 원이 첫번째 원과 겹치지 않습니다.\")\n",
        "t._screen.exitonclick() # 화면을 마우스로 클릭해야 종료되게 하는 부분"
      ],
      "metadata": {
        "id": "AUHZjX0VFfPa"
      },
      "execution_count": null,
      "outputs": []
    }
  ]
}